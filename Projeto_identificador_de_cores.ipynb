{
  "cells": [
    {
      "cell_type": "markdown",
      "metadata": {
        "id": "78TGrIc7mkLL"
      },
      "source": []
    },
    {
      "cell_type": "markdown",
      "metadata": {
        "id": "Fc5PoJnfuaRd"
      },
      "source": [
        "Agora que a imagem já foi salva, vamos montar o drive para que ela possa ser utilizada nos processamentos que virão a seguir incluindo a exibição da mesma na tela. Caso ainda não tenha sido feita a conecção de nenhuma conta será solicitada que alguma conta se conecte ao Google Drive.\n"
      ]
    },
    {
      "cell_type": "markdown",
      "metadata": {
        "id": "L9d-6eB4mk72"
      },
      "source": [
        "# **Identificação de cores**\n",
        "Caro participante, agradecemos a sua participação nesta atividade onde pretendemos demonstrar como alguns processos de captura e processamento digital de imagens ocorrem. Essa demonstração se dará através da execução do Sistema Digital de Imagem que elaboramos, onde o usuário irá capturar uma imagem, através de uma Webcam, a imagem será apresentada, o usuário então irá executar alguns processamentos digitais sobre esta imagem, de forma a que possam ser apresentadas 4 imagens para a escolha da que melhor representa o objeto, após o que a imagem será apresentada e o usuário poderá escolher através do mouse, sobre qual parte da imagem deseja saber a côr exata, com a indicação do seu RGB, e sua côr complementar."
      ]
    },
    {
      "cell_type": "markdown",
      "metadata": {
        "id": "9IBEIl9xxEuk"
      },
      "source": [
        "A execução de todos os passos, bem como toda esta introdução, estão se dando através do Google Colab, que é um aplicativo que combina a Edição de texto com a implementação de códigos de programação, nos quais é possível tanto a entrada de dados pelo usuário como a apresentação de resultados na tela, como você poderá ver a seguir através do passo a passo que será apresentado."
      ]
    },
    {
      "cell_type": "markdown",
      "metadata": {
        "id": "XCGtYOOnH3n3"
      },
      "source": [
        "**Importação de Bibliotecas**\n",
        "\n",
        "\n",
        " para que os códigos possam ser executados é necessário instalar e importar as bibliotecas necessárias. Por conta da instalação de algumas bibliotecas, as vezes a importação apresenta uma falha, indicada por um sinal vermelho no play de execução, caso isto ocorra, entre na aba \"Ambiente de execução\", clique em Reiniciar Seção e execute novamente o play.\n",
        "\n",
        "Clique no indicador de play que se encontra dentro dos colchetes abaixo   [ \\ ]\n"
      ]
    },
    {
      "cell_type": "code",
      "execution_count": null,
      "metadata": {
        "colab": {
          "base_uri": "https://localhost:8080/"
        },
        "collapsed": true,
        "id": "Rcy2N1xZoZKW",
        "outputId": "3dc96727-1f0c-4c50-e477-9849754fcf37"
      },
      "outputs": [
        {
          "output_type": "stream",
          "name": "stdout",
          "text": [
            "Requirement already satisfied: ipympl in /usr/local/lib/python3.11/dist-packages (0.9.7)\n",
            "Requirement already satisfied: ipython<10 in /usr/local/lib/python3.11/dist-packages (from ipympl) (7.34.0)\n",
            "Requirement already satisfied: ipywidgets<9,>=7.6.0 in /usr/local/lib/python3.11/dist-packages (from ipympl) (7.7.1)\n",
            "Requirement already satisfied: matplotlib<4,>=3.5.0 in /usr/local/lib/python3.11/dist-packages (from ipympl) (3.10.0)\n",
            "Requirement already satisfied: numpy in /usr/local/lib/python3.11/dist-packages (from ipympl) (2.0.2)\n",
            "Requirement already satisfied: pillow in /usr/local/lib/python3.11/dist-packages (from ipympl) (11.1.0)\n",
            "Requirement already satisfied: traitlets<6 in /usr/local/lib/python3.11/dist-packages (from ipympl) (5.7.1)\n",
            "Requirement already satisfied: setuptools>=18.5 in /usr/local/lib/python3.11/dist-packages (from ipython<10->ipympl) (75.2.0)\n",
            "Requirement already satisfied: jedi>=0.16 in /usr/local/lib/python3.11/dist-packages (from ipython<10->ipympl) (0.19.2)\n",
            "Requirement already satisfied: decorator in /usr/local/lib/python3.11/dist-packages (from ipython<10->ipympl) (4.4.2)\n",
            "Requirement already satisfied: pickleshare in /usr/local/lib/python3.11/dist-packages (from ipython<10->ipympl) (0.7.5)\n",
            "Requirement already satisfied: prompt-toolkit!=3.0.0,!=3.0.1,<3.1.0,>=2.0.0 in /usr/local/lib/python3.11/dist-packages (from ipython<10->ipympl) (3.0.51)\n",
            "Requirement already satisfied: pygments in /usr/local/lib/python3.11/dist-packages (from ipython<10->ipympl) (2.18.0)\n",
            "Requirement already satisfied: backcall in /usr/local/lib/python3.11/dist-packages (from ipython<10->ipympl) (0.2.0)\n",
            "Requirement already satisfied: matplotlib-inline in /usr/local/lib/python3.11/dist-packages (from ipython<10->ipympl) (0.1.7)\n",
            "Requirement already satisfied: pexpect>4.3 in /usr/local/lib/python3.11/dist-packages (from ipython<10->ipympl) (4.9.0)\n",
            "Requirement already satisfied: ipykernel>=4.5.1 in /usr/local/lib/python3.11/dist-packages (from ipywidgets<9,>=7.6.0->ipympl) (6.17.1)\n",
            "Requirement already satisfied: ipython-genutils~=0.2.0 in /usr/local/lib/python3.11/dist-packages (from ipywidgets<9,>=7.6.0->ipympl) (0.2.0)\n",
            "Requirement already satisfied: widgetsnbextension~=3.6.0 in /usr/local/lib/python3.11/dist-packages (from ipywidgets<9,>=7.6.0->ipympl) (3.6.10)\n",
            "Requirement already satisfied: jupyterlab-widgets>=1.0.0 in /usr/local/lib/python3.11/dist-packages (from ipywidgets<9,>=7.6.0->ipympl) (3.0.14)\n",
            "Requirement already satisfied: contourpy>=1.0.1 in /usr/local/lib/python3.11/dist-packages (from matplotlib<4,>=3.5.0->ipympl) (1.3.2)\n",
            "Requirement already satisfied: cycler>=0.10 in /usr/local/lib/python3.11/dist-packages (from matplotlib<4,>=3.5.0->ipympl) (0.12.1)\n",
            "Requirement already satisfied: fonttools>=4.22.0 in /usr/local/lib/python3.11/dist-packages (from matplotlib<4,>=3.5.0->ipympl) (4.57.0)\n",
            "Requirement already satisfied: kiwisolver>=1.3.1 in /usr/local/lib/python3.11/dist-packages (from matplotlib<4,>=3.5.0->ipympl) (1.4.8)\n",
            "Requirement already satisfied: packaging>=20.0 in /usr/local/lib/python3.11/dist-packages (from matplotlib<4,>=3.5.0->ipympl) (24.2)\n",
            "Requirement already satisfied: pyparsing>=2.3.1 in /usr/local/lib/python3.11/dist-packages (from matplotlib<4,>=3.5.0->ipympl) (3.2.3)\n",
            "Requirement already satisfied: python-dateutil>=2.7 in /usr/local/lib/python3.11/dist-packages (from matplotlib<4,>=3.5.0->ipympl) (2.8.2)\n",
            "Requirement already satisfied: debugpy>=1.0 in /usr/local/lib/python3.11/dist-packages (from ipykernel>=4.5.1->ipywidgets<9,>=7.6.0->ipympl) (1.8.0)\n",
            "Requirement already satisfied: jupyter-client>=6.1.12 in /usr/local/lib/python3.11/dist-packages (from ipykernel>=4.5.1->ipywidgets<9,>=7.6.0->ipympl) (6.1.12)\n",
            "Requirement already satisfied: nest-asyncio in /usr/local/lib/python3.11/dist-packages (from ipykernel>=4.5.1->ipywidgets<9,>=7.6.0->ipympl) (1.6.0)\n",
            "Requirement already satisfied: psutil in /usr/local/lib/python3.11/dist-packages (from ipykernel>=4.5.1->ipywidgets<9,>=7.6.0->ipympl) (5.9.5)\n",
            "Requirement already satisfied: pyzmq>=17 in /usr/local/lib/python3.11/dist-packages (from ipykernel>=4.5.1->ipywidgets<9,>=7.6.0->ipympl) (24.0.1)\n",
            "Requirement already satisfied: tornado>=6.1 in /usr/local/lib/python3.11/dist-packages (from ipykernel>=4.5.1->ipywidgets<9,>=7.6.0->ipympl) (6.4.2)\n",
            "Requirement already satisfied: parso<0.9.0,>=0.8.4 in /usr/local/lib/python3.11/dist-packages (from jedi>=0.16->ipython<10->ipympl) (0.8.4)\n",
            "Requirement already satisfied: ptyprocess>=0.5 in /usr/local/lib/python3.11/dist-packages (from pexpect>4.3->ipython<10->ipympl) (0.7.0)\n",
            "Requirement already satisfied: wcwidth in /usr/local/lib/python3.11/dist-packages (from prompt-toolkit!=3.0.0,!=3.0.1,<3.1.0,>=2.0.0->ipython<10->ipympl) (0.2.13)\n",
            "Requirement already satisfied: six>=1.5 in /usr/local/lib/python3.11/dist-packages (from python-dateutil>=2.7->matplotlib<4,>=3.5.0->ipympl) (1.17.0)\n",
            "Requirement already satisfied: notebook>=4.4.1 in /usr/local/lib/python3.11/dist-packages (from widgetsnbextension~=3.6.0->ipywidgets<9,>=7.6.0->ipympl) (6.5.7)\n",
            "Requirement already satisfied: jupyter-core>=4.6.0 in /usr/local/lib/python3.11/dist-packages (from jupyter-client>=6.1.12->ipykernel>=4.5.1->ipywidgets<9,>=7.6.0->ipympl) (5.7.2)\n",
            "Requirement already satisfied: jinja2 in /usr/local/lib/python3.11/dist-packages (from notebook>=4.4.1->widgetsnbextension~=3.6.0->ipywidgets<9,>=7.6.0->ipympl) (3.1.6)\n",
            "Requirement already satisfied: argon2-cffi in /usr/local/lib/python3.11/dist-packages (from notebook>=4.4.1->widgetsnbextension~=3.6.0->ipywidgets<9,>=7.6.0->ipympl) (23.1.0)\n",
            "Requirement already satisfied: nbformat in /usr/local/lib/python3.11/dist-packages (from notebook>=4.4.1->widgetsnbextension~=3.6.0->ipywidgets<9,>=7.6.0->ipympl) (5.10.4)\n",
            "Requirement already satisfied: nbconvert>=5 in /usr/local/lib/python3.11/dist-packages (from notebook>=4.4.1->widgetsnbextension~=3.6.0->ipywidgets<9,>=7.6.0->ipympl) (7.16.6)\n",
            "Requirement already satisfied: Send2Trash>=1.8.0 in /usr/local/lib/python3.11/dist-packages (from notebook>=4.4.1->widgetsnbextension~=3.6.0->ipywidgets<9,>=7.6.0->ipympl) (1.8.3)\n",
            "Requirement already satisfied: terminado>=0.8.3 in /usr/local/lib/python3.11/dist-packages (from notebook>=4.4.1->widgetsnbextension~=3.6.0->ipywidgets<9,>=7.6.0->ipympl) (0.18.1)\n",
            "Requirement already satisfied: prometheus-client in /usr/local/lib/python3.11/dist-packages (from notebook>=4.4.1->widgetsnbextension~=3.6.0->ipywidgets<9,>=7.6.0->ipympl) (0.21.1)\n",
            "Requirement already satisfied: nbclassic>=0.4.7 in /usr/local/lib/python3.11/dist-packages (from notebook>=4.4.1->widgetsnbextension~=3.6.0->ipywidgets<9,>=7.6.0->ipympl) (1.2.0)\n",
            "Requirement already satisfied: platformdirs>=2.5 in /usr/local/lib/python3.11/dist-packages (from jupyter-core>=4.6.0->jupyter-client>=6.1.12->ipykernel>=4.5.1->ipywidgets<9,>=7.6.0->ipympl) (4.3.7)\n",
            "Requirement already satisfied: notebook-shim>=0.2.3 in /usr/local/lib/python3.11/dist-packages (from nbclassic>=0.4.7->notebook>=4.4.1->widgetsnbextension~=3.6.0->ipywidgets<9,>=7.6.0->ipympl) (0.2.4)\n",
            "Requirement already satisfied: beautifulsoup4 in /usr/local/lib/python3.11/dist-packages (from nbconvert>=5->notebook>=4.4.1->widgetsnbextension~=3.6.0->ipywidgets<9,>=7.6.0->ipympl) (4.13.4)\n",
            "Requirement already satisfied: bleach!=5.0.0 in /usr/local/lib/python3.11/dist-packages (from bleach[css]!=5.0.0->nbconvert>=5->notebook>=4.4.1->widgetsnbextension~=3.6.0->ipywidgets<9,>=7.6.0->ipympl) (6.2.0)\n",
            "Requirement already satisfied: defusedxml in /usr/local/lib/python3.11/dist-packages (from nbconvert>=5->notebook>=4.4.1->widgetsnbextension~=3.6.0->ipywidgets<9,>=7.6.0->ipympl) (0.7.1)\n",
            "Requirement already satisfied: jupyterlab-pygments in /usr/local/lib/python3.11/dist-packages (from nbconvert>=5->notebook>=4.4.1->widgetsnbextension~=3.6.0->ipywidgets<9,>=7.6.0->ipympl) (0.3.0)\n",
            "Requirement already satisfied: markupsafe>=2.0 in /usr/local/lib/python3.11/dist-packages (from nbconvert>=5->notebook>=4.4.1->widgetsnbextension~=3.6.0->ipywidgets<9,>=7.6.0->ipympl) (3.0.2)\n",
            "Requirement already satisfied: mistune<4,>=2.0.3 in /usr/local/lib/python3.11/dist-packages (from nbconvert>=5->notebook>=4.4.1->widgetsnbextension~=3.6.0->ipywidgets<9,>=7.6.0->ipympl) (3.1.3)\n",
            "Requirement already satisfied: nbclient>=0.5.0 in /usr/local/lib/python3.11/dist-packages (from nbconvert>=5->notebook>=4.4.1->widgetsnbextension~=3.6.0->ipywidgets<9,>=7.6.0->ipympl) (0.10.2)\n",
            "Requirement already satisfied: pandocfilters>=1.4.1 in /usr/local/lib/python3.11/dist-packages (from nbconvert>=5->notebook>=4.4.1->widgetsnbextension~=3.6.0->ipywidgets<9,>=7.6.0->ipympl) (1.5.1)\n",
            "Requirement already satisfied: fastjsonschema>=2.15 in /usr/local/lib/python3.11/dist-packages (from nbformat->notebook>=4.4.1->widgetsnbextension~=3.6.0->ipywidgets<9,>=7.6.0->ipympl) (2.21.1)\n",
            "Requirement already satisfied: jsonschema>=2.6 in /usr/local/lib/python3.11/dist-packages (from nbformat->notebook>=4.4.1->widgetsnbextension~=3.6.0->ipywidgets<9,>=7.6.0->ipympl) (4.23.0)\n",
            "Requirement already satisfied: argon2-cffi-bindings in /usr/local/lib/python3.11/dist-packages (from argon2-cffi->notebook>=4.4.1->widgetsnbextension~=3.6.0->ipywidgets<9,>=7.6.0->ipympl) (21.2.0)\n",
            "Requirement already satisfied: webencodings in /usr/local/lib/python3.11/dist-packages (from bleach!=5.0.0->bleach[css]!=5.0.0->nbconvert>=5->notebook>=4.4.1->widgetsnbextension~=3.6.0->ipywidgets<9,>=7.6.0->ipympl) (0.5.1)\n",
            "Requirement already satisfied: tinycss2<1.5,>=1.1.0 in /usr/local/lib/python3.11/dist-packages (from bleach[css]!=5.0.0->nbconvert>=5->notebook>=4.4.1->widgetsnbextension~=3.6.0->ipywidgets<9,>=7.6.0->ipympl) (1.4.0)\n",
            "Requirement already satisfied: attrs>=22.2.0 in /usr/local/lib/python3.11/dist-packages (from jsonschema>=2.6->nbformat->notebook>=4.4.1->widgetsnbextension~=3.6.0->ipywidgets<9,>=7.6.0->ipympl) (25.3.0)\n",
            "Requirement already satisfied: jsonschema-specifications>=2023.03.6 in /usr/local/lib/python3.11/dist-packages (from jsonschema>=2.6->nbformat->notebook>=4.4.1->widgetsnbextension~=3.6.0->ipywidgets<9,>=7.6.0->ipympl) (2024.10.1)\n",
            "Requirement already satisfied: referencing>=0.28.4 in /usr/local/lib/python3.11/dist-packages (from jsonschema>=2.6->nbformat->notebook>=4.4.1->widgetsnbextension~=3.6.0->ipywidgets<9,>=7.6.0->ipympl) (0.36.2)\n",
            "Requirement already satisfied: rpds-py>=0.7.1 in /usr/local/lib/python3.11/dist-packages (from jsonschema>=2.6->nbformat->notebook>=4.4.1->widgetsnbextension~=3.6.0->ipywidgets<9,>=7.6.0->ipympl) (0.24.0)\n",
            "Requirement already satisfied: jupyter-server<3,>=1.8 in /usr/local/lib/python3.11/dist-packages (from notebook-shim>=0.2.3->nbclassic>=0.4.7->notebook>=4.4.1->widgetsnbextension~=3.6.0->ipywidgets<9,>=7.6.0->ipympl) (1.16.0)\n",
            "Requirement already satisfied: cffi>=1.0.1 in /usr/local/lib/python3.11/dist-packages (from argon2-cffi-bindings->argon2-cffi->notebook>=4.4.1->widgetsnbextension~=3.6.0->ipywidgets<9,>=7.6.0->ipympl) (1.17.1)\n",
            "Requirement already satisfied: soupsieve>1.2 in /usr/local/lib/python3.11/dist-packages (from beautifulsoup4->nbconvert>=5->notebook>=4.4.1->widgetsnbextension~=3.6.0->ipywidgets<9,>=7.6.0->ipympl) (2.7)\n",
            "Requirement already satisfied: typing-extensions>=4.0.0 in /usr/local/lib/python3.11/dist-packages (from beautifulsoup4->nbconvert>=5->notebook>=4.4.1->widgetsnbextension~=3.6.0->ipywidgets<9,>=7.6.0->ipympl) (4.13.2)\n",
            "Requirement already satisfied: pycparser in /usr/local/lib/python3.11/dist-packages (from cffi>=1.0.1->argon2-cffi-bindings->argon2-cffi->notebook>=4.4.1->widgetsnbextension~=3.6.0->ipywidgets<9,>=7.6.0->ipympl) (2.22)\n",
            "Requirement already satisfied: anyio>=3.1.0 in /usr/local/lib/python3.11/dist-packages (from jupyter-server<3,>=1.8->notebook-shim>=0.2.3->nbclassic>=0.4.7->notebook>=4.4.1->widgetsnbextension~=3.6.0->ipywidgets<9,>=7.6.0->ipympl) (4.9.0)\n",
            "Requirement already satisfied: websocket-client in /usr/local/lib/python3.11/dist-packages (from jupyter-server<3,>=1.8->notebook-shim>=0.2.3->nbclassic>=0.4.7->notebook>=4.4.1->widgetsnbextension~=3.6.0->ipywidgets<9,>=7.6.0->ipympl) (1.8.0)\n",
            "Requirement already satisfied: idna>=2.8 in /usr/local/lib/python3.11/dist-packages (from anyio>=3.1.0->jupyter-server<3,>=1.8->notebook-shim>=0.2.3->nbclassic>=0.4.7->notebook>=4.4.1->widgetsnbextension~=3.6.0->ipywidgets<9,>=7.6.0->ipympl) (3.10)\n",
            "Requirement already satisfied: sniffio>=1.1 in /usr/local/lib/python3.11/dist-packages (from anyio>=3.1.0->jupyter-server<3,>=1.8->notebook-shim>=0.2.3->nbclassic>=0.4.7->notebook>=4.4.1->widgetsnbextension~=3.6.0->ipywidgets<9,>=7.6.0->ipympl) (1.3.1)\n",
            "Requirement already satisfied: ipyevents in /usr/local/lib/python3.11/dist-packages (2.0.2)\n",
            "Requirement already satisfied: ipywidgets>=7.6.0 in /usr/local/lib/python3.11/dist-packages (from ipyevents) (7.7.1)\n",
            "Requirement already satisfied: ipykernel>=4.5.1 in /usr/local/lib/python3.11/dist-packages (from ipywidgets>=7.6.0->ipyevents) (6.17.1)\n",
            "Requirement already satisfied: ipython-genutils~=0.2.0 in /usr/local/lib/python3.11/dist-packages (from ipywidgets>=7.6.0->ipyevents) (0.2.0)\n",
            "Requirement already satisfied: traitlets>=4.3.1 in /usr/local/lib/python3.11/dist-packages (from ipywidgets>=7.6.0->ipyevents) (5.7.1)\n",
            "Requirement already satisfied: widgetsnbextension~=3.6.0 in /usr/local/lib/python3.11/dist-packages (from ipywidgets>=7.6.0->ipyevents) (3.6.10)\n",
            "Requirement already satisfied: ipython>=4.0.0 in /usr/local/lib/python3.11/dist-packages (from ipywidgets>=7.6.0->ipyevents) (7.34.0)\n",
            "Requirement already satisfied: jupyterlab-widgets>=1.0.0 in /usr/local/lib/python3.11/dist-packages (from ipywidgets>=7.6.0->ipyevents) (3.0.14)\n",
            "Requirement already satisfied: debugpy>=1.0 in /usr/local/lib/python3.11/dist-packages (from ipykernel>=4.5.1->ipywidgets>=7.6.0->ipyevents) (1.8.0)\n",
            "Requirement already satisfied: jupyter-client>=6.1.12 in /usr/local/lib/python3.11/dist-packages (from ipykernel>=4.5.1->ipywidgets>=7.6.0->ipyevents) (6.1.12)\n",
            "Requirement already satisfied: matplotlib-inline>=0.1 in /usr/local/lib/python3.11/dist-packages (from ipykernel>=4.5.1->ipywidgets>=7.6.0->ipyevents) (0.1.7)\n",
            "Requirement already satisfied: nest-asyncio in /usr/local/lib/python3.11/dist-packages (from ipykernel>=4.5.1->ipywidgets>=7.6.0->ipyevents) (1.6.0)\n",
            "Requirement already satisfied: packaging in /usr/local/lib/python3.11/dist-packages (from ipykernel>=4.5.1->ipywidgets>=7.6.0->ipyevents) (24.2)\n",
            "Requirement already satisfied: psutil in /usr/local/lib/python3.11/dist-packages (from ipykernel>=4.5.1->ipywidgets>=7.6.0->ipyevents) (5.9.5)\n",
            "Requirement already satisfied: pyzmq>=17 in /usr/local/lib/python3.11/dist-packages (from ipykernel>=4.5.1->ipywidgets>=7.6.0->ipyevents) (24.0.1)\n",
            "Requirement already satisfied: tornado>=6.1 in /usr/local/lib/python3.11/dist-packages (from ipykernel>=4.5.1->ipywidgets>=7.6.0->ipyevents) (6.4.2)\n",
            "Requirement already satisfied: setuptools>=18.5 in /usr/local/lib/python3.11/dist-packages (from ipython>=4.0.0->ipywidgets>=7.6.0->ipyevents) (75.2.0)\n",
            "Requirement already satisfied: jedi>=0.16 in /usr/local/lib/python3.11/dist-packages (from ipython>=4.0.0->ipywidgets>=7.6.0->ipyevents) (0.19.2)\n",
            "Requirement already satisfied: decorator in /usr/local/lib/python3.11/dist-packages (from ipython>=4.0.0->ipywidgets>=7.6.0->ipyevents) (4.4.2)\n",
            "Requirement already satisfied: pickleshare in /usr/local/lib/python3.11/dist-packages (from ipython>=4.0.0->ipywidgets>=7.6.0->ipyevents) (0.7.5)\n",
            "Requirement already satisfied: prompt-toolkit!=3.0.0,!=3.0.1,<3.1.0,>=2.0.0 in /usr/local/lib/python3.11/dist-packages (from ipython>=4.0.0->ipywidgets>=7.6.0->ipyevents) (3.0.51)\n",
            "Requirement already satisfied: pygments in /usr/local/lib/python3.11/dist-packages (from ipython>=4.0.0->ipywidgets>=7.6.0->ipyevents) (2.18.0)\n",
            "Requirement already satisfied: backcall in /usr/local/lib/python3.11/dist-packages (from ipython>=4.0.0->ipywidgets>=7.6.0->ipyevents) (0.2.0)\n",
            "Requirement already satisfied: pexpect>4.3 in /usr/local/lib/python3.11/dist-packages (from ipython>=4.0.0->ipywidgets>=7.6.0->ipyevents) (4.9.0)\n",
            "Requirement already satisfied: notebook>=4.4.1 in /usr/local/lib/python3.11/dist-packages (from widgetsnbextension~=3.6.0->ipywidgets>=7.6.0->ipyevents) (6.5.7)\n",
            "Requirement already satisfied: parso<0.9.0,>=0.8.4 in /usr/local/lib/python3.11/dist-packages (from jedi>=0.16->ipython>=4.0.0->ipywidgets>=7.6.0->ipyevents) (0.8.4)\n",
            "Requirement already satisfied: jupyter-core>=4.6.0 in /usr/local/lib/python3.11/dist-packages (from jupyter-client>=6.1.12->ipykernel>=4.5.1->ipywidgets>=7.6.0->ipyevents) (5.7.2)\n",
            "Requirement already satisfied: python-dateutil>=2.1 in /usr/local/lib/python3.11/dist-packages (from jupyter-client>=6.1.12->ipykernel>=4.5.1->ipywidgets>=7.6.0->ipyevents) (2.8.2)\n",
            "Requirement already satisfied: jinja2 in /usr/local/lib/python3.11/dist-packages (from notebook>=4.4.1->widgetsnbextension~=3.6.0->ipywidgets>=7.6.0->ipyevents) (3.1.6)\n",
            "Requirement already satisfied: argon2-cffi in /usr/local/lib/python3.11/dist-packages (from notebook>=4.4.1->widgetsnbextension~=3.6.0->ipywidgets>=7.6.0->ipyevents) (23.1.0)\n",
            "Requirement already satisfied: nbformat in /usr/local/lib/python3.11/dist-packages (from notebook>=4.4.1->widgetsnbextension~=3.6.0->ipywidgets>=7.6.0->ipyevents) (5.10.4)\n",
            "Requirement already satisfied: nbconvert>=5 in /usr/local/lib/python3.11/dist-packages (from notebook>=4.4.1->widgetsnbextension~=3.6.0->ipywidgets>=7.6.0->ipyevents) (7.16.6)\n",
            "Requirement already satisfied: Send2Trash>=1.8.0 in /usr/local/lib/python3.11/dist-packages (from notebook>=4.4.1->widgetsnbextension~=3.6.0->ipywidgets>=7.6.0->ipyevents) (1.8.3)\n",
            "Requirement already satisfied: terminado>=0.8.3 in /usr/local/lib/python3.11/dist-packages (from notebook>=4.4.1->widgetsnbextension~=3.6.0->ipywidgets>=7.6.0->ipyevents) (0.18.1)\n",
            "Requirement already satisfied: prometheus-client in /usr/local/lib/python3.11/dist-packages (from notebook>=4.4.1->widgetsnbextension~=3.6.0->ipywidgets>=7.6.0->ipyevents) (0.21.1)\n",
            "Requirement already satisfied: nbclassic>=0.4.7 in /usr/local/lib/python3.11/dist-packages (from notebook>=4.4.1->widgetsnbextension~=3.6.0->ipywidgets>=7.6.0->ipyevents) (1.2.0)\n",
            "Requirement already satisfied: ptyprocess>=0.5 in /usr/local/lib/python3.11/dist-packages (from pexpect>4.3->ipython>=4.0.0->ipywidgets>=7.6.0->ipyevents) (0.7.0)\n",
            "Requirement already satisfied: wcwidth in /usr/local/lib/python3.11/dist-packages (from prompt-toolkit!=3.0.0,!=3.0.1,<3.1.0,>=2.0.0->ipython>=4.0.0->ipywidgets>=7.6.0->ipyevents) (0.2.13)\n",
            "Requirement already satisfied: platformdirs>=2.5 in /usr/local/lib/python3.11/dist-packages (from jupyter-core>=4.6.0->jupyter-client>=6.1.12->ipykernel>=4.5.1->ipywidgets>=7.6.0->ipyevents) (4.3.7)\n",
            "Requirement already satisfied: notebook-shim>=0.2.3 in /usr/local/lib/python3.11/dist-packages (from nbclassic>=0.4.7->notebook>=4.4.1->widgetsnbextension~=3.6.0->ipywidgets>=7.6.0->ipyevents) (0.2.4)\n",
            "Requirement already satisfied: beautifulsoup4 in /usr/local/lib/python3.11/dist-packages (from nbconvert>=5->notebook>=4.4.1->widgetsnbextension~=3.6.0->ipywidgets>=7.6.0->ipyevents) (4.13.4)\n",
            "Requirement already satisfied: bleach!=5.0.0 in /usr/local/lib/python3.11/dist-packages (from bleach[css]!=5.0.0->nbconvert>=5->notebook>=4.4.1->widgetsnbextension~=3.6.0->ipywidgets>=7.6.0->ipyevents) (6.2.0)\n",
            "Requirement already satisfied: defusedxml in /usr/local/lib/python3.11/dist-packages (from nbconvert>=5->notebook>=4.4.1->widgetsnbextension~=3.6.0->ipywidgets>=7.6.0->ipyevents) (0.7.1)\n",
            "Requirement already satisfied: jupyterlab-pygments in /usr/local/lib/python3.11/dist-packages (from nbconvert>=5->notebook>=4.4.1->widgetsnbextension~=3.6.0->ipywidgets>=7.6.0->ipyevents) (0.3.0)\n",
            "Requirement already satisfied: markupsafe>=2.0 in /usr/local/lib/python3.11/dist-packages (from nbconvert>=5->notebook>=4.4.1->widgetsnbextension~=3.6.0->ipywidgets>=7.6.0->ipyevents) (3.0.2)\n",
            "Requirement already satisfied: mistune<4,>=2.0.3 in /usr/local/lib/python3.11/dist-packages (from nbconvert>=5->notebook>=4.4.1->widgetsnbextension~=3.6.0->ipywidgets>=7.6.0->ipyevents) (3.1.3)\n",
            "Requirement already satisfied: nbclient>=0.5.0 in /usr/local/lib/python3.11/dist-packages (from nbconvert>=5->notebook>=4.4.1->widgetsnbextension~=3.6.0->ipywidgets>=7.6.0->ipyevents) (0.10.2)\n",
            "Requirement already satisfied: pandocfilters>=1.4.1 in /usr/local/lib/python3.11/dist-packages (from nbconvert>=5->notebook>=4.4.1->widgetsnbextension~=3.6.0->ipywidgets>=7.6.0->ipyevents) (1.5.1)\n",
            "Requirement already satisfied: fastjsonschema>=2.15 in /usr/local/lib/python3.11/dist-packages (from nbformat->notebook>=4.4.1->widgetsnbextension~=3.6.0->ipywidgets>=7.6.0->ipyevents) (2.21.1)\n",
            "Requirement already satisfied: jsonschema>=2.6 in /usr/local/lib/python3.11/dist-packages (from nbformat->notebook>=4.4.1->widgetsnbextension~=3.6.0->ipywidgets>=7.6.0->ipyevents) (4.23.0)\n",
            "Requirement already satisfied: six>=1.5 in /usr/local/lib/python3.11/dist-packages (from python-dateutil>=2.1->jupyter-client>=6.1.12->ipykernel>=4.5.1->ipywidgets>=7.6.0->ipyevents) (1.17.0)\n",
            "Requirement already satisfied: argon2-cffi-bindings in /usr/local/lib/python3.11/dist-packages (from argon2-cffi->notebook>=4.4.1->widgetsnbextension~=3.6.0->ipywidgets>=7.6.0->ipyevents) (21.2.0)\n",
            "Requirement already satisfied: webencodings in /usr/local/lib/python3.11/dist-packages (from bleach!=5.0.0->bleach[css]!=5.0.0->nbconvert>=5->notebook>=4.4.1->widgetsnbextension~=3.6.0->ipywidgets>=7.6.0->ipyevents) (0.5.1)\n",
            "Requirement already satisfied: tinycss2<1.5,>=1.1.0 in /usr/local/lib/python3.11/dist-packages (from bleach[css]!=5.0.0->nbconvert>=5->notebook>=4.4.1->widgetsnbextension~=3.6.0->ipywidgets>=7.6.0->ipyevents) (1.4.0)\n",
            "Requirement already satisfied: attrs>=22.2.0 in /usr/local/lib/python3.11/dist-packages (from jsonschema>=2.6->nbformat->notebook>=4.4.1->widgetsnbextension~=3.6.0->ipywidgets>=7.6.0->ipyevents) (25.3.0)\n",
            "Requirement already satisfied: jsonschema-specifications>=2023.03.6 in /usr/local/lib/python3.11/dist-packages (from jsonschema>=2.6->nbformat->notebook>=4.4.1->widgetsnbextension~=3.6.0->ipywidgets>=7.6.0->ipyevents) (2024.10.1)\n",
            "Requirement already satisfied: referencing>=0.28.4 in /usr/local/lib/python3.11/dist-packages (from jsonschema>=2.6->nbformat->notebook>=4.4.1->widgetsnbextension~=3.6.0->ipywidgets>=7.6.0->ipyevents) (0.36.2)\n",
            "Requirement already satisfied: rpds-py>=0.7.1 in /usr/local/lib/python3.11/dist-packages (from jsonschema>=2.6->nbformat->notebook>=4.4.1->widgetsnbextension~=3.6.0->ipywidgets>=7.6.0->ipyevents) (0.24.0)\n",
            "Requirement already satisfied: jupyter-server<3,>=1.8 in /usr/local/lib/python3.11/dist-packages (from notebook-shim>=0.2.3->nbclassic>=0.4.7->notebook>=4.4.1->widgetsnbextension~=3.6.0->ipywidgets>=7.6.0->ipyevents) (1.16.0)\n",
            "Requirement already satisfied: cffi>=1.0.1 in /usr/local/lib/python3.11/dist-packages (from argon2-cffi-bindings->argon2-cffi->notebook>=4.4.1->widgetsnbextension~=3.6.0->ipywidgets>=7.6.0->ipyevents) (1.17.1)\n",
            "Requirement already satisfied: soupsieve>1.2 in /usr/local/lib/python3.11/dist-packages (from beautifulsoup4->nbconvert>=5->notebook>=4.4.1->widgetsnbextension~=3.6.0->ipywidgets>=7.6.0->ipyevents) (2.7)\n",
            "Requirement already satisfied: typing-extensions>=4.0.0 in /usr/local/lib/python3.11/dist-packages (from beautifulsoup4->nbconvert>=5->notebook>=4.4.1->widgetsnbextension~=3.6.0->ipywidgets>=7.6.0->ipyevents) (4.13.2)\n",
            "Requirement already satisfied: pycparser in /usr/local/lib/python3.11/dist-packages (from cffi>=1.0.1->argon2-cffi-bindings->argon2-cffi->notebook>=4.4.1->widgetsnbextension~=3.6.0->ipywidgets>=7.6.0->ipyevents) (2.22)\n",
            "Requirement already satisfied: anyio>=3.1.0 in /usr/local/lib/python3.11/dist-packages (from jupyter-server<3,>=1.8->notebook-shim>=0.2.3->nbclassic>=0.4.7->notebook>=4.4.1->widgetsnbextension~=3.6.0->ipywidgets>=7.6.0->ipyevents) (4.9.0)\n",
            "Requirement already satisfied: websocket-client in /usr/local/lib/python3.11/dist-packages (from jupyter-server<3,>=1.8->notebook-shim>=0.2.3->nbclassic>=0.4.7->notebook>=4.4.1->widgetsnbextension~=3.6.0->ipywidgets>=7.6.0->ipyevents) (1.8.0)\n",
            "Requirement already satisfied: idna>=2.8 in /usr/local/lib/python3.11/dist-packages (from anyio>=3.1.0->jupyter-server<3,>=1.8->notebook-shim>=0.2.3->nbclassic>=0.4.7->notebook>=4.4.1->widgetsnbextension~=3.6.0->ipywidgets>=7.6.0->ipyevents) (3.10)\n",
            "Requirement already satisfied: sniffio>=1.1 in /usr/local/lib/python3.11/dist-packages (from anyio>=3.1.0->jupyter-server<3,>=1.8->notebook-shim>=0.2.3->nbclassic>=0.4.7->notebook>=4.4.1->widgetsnbextension~=3.6.0->ipywidgets>=7.6.0->ipyevents) (1.3.1)\n"
          ]
        }
      ],
      "source": [
        "# %% Instalação e Configuração Inicial\n",
        "!pip install ipympl\n",
        "!pip install ipyevents\n",
        "\n",
        "%matplotlib widget\n",
        "\n",
        "from google.colab import output\n",
        "output.enable_custom_widget_manager()\n",
        "\n",
        "import cv2\n",
        "import numpy as np\n",
        "import matplotlib.pyplot as plt\n",
        "import os\n",
        "from google.colab import drive\n",
        "from google.colab.output import eval_js\n",
        "from base64 import b64decode\n",
        "import ipywidgets as widgets\n",
        "from IPython.display import display, clear_output, Javascript, Image\n",
        "import webcolors, colorsys"
      ]
    },
    {
      "cell_type": "markdown",
      "metadata": {
        "id": "v4am60uwsrbJ"
      },
      "source": [
        "**Função para capturar imagem via webcam**\n",
        "\n",
        "Agora vamos executar a função que irá capturar a imagem através da Webcan.\n",
        "\n",
        "Clique no indicador de play que se encontra dentro dos colchetes abaixo [ \\ ]"
      ]
    },
    {
      "cell_type": "code",
      "execution_count": null,
      "metadata": {
        "id": "3qxXJtrksy3Z"
      },
      "outputs": [],
      "source": [
        "def take_photo(filename, quality):\n",
        "  js = Javascript('''\n",
        "    async function takePhoto(quality) {\n",
        "      const div = document.createElement('div');\n",
        "      const capture = document.createElement('button');\n",
        "      capture.textContent = 'Capture';\n",
        "      div.appendChild(capture);\n",
        "\n",
        "      const video = document.createElement('video');\n",
        "      video.style.display = 'block';\n",
        "      const stream = await navigator.mediaDevices.getUserMedia({video: true});\n",
        "\n",
        "      document.body.appendChild(div);\n",
        "      div.appendChild(video);\n",
        "      video.srcObject = stream;\n",
        "      await video.play();\n",
        "\n",
        "      // Resize the output to fit the video element.\n",
        "      google.colab.output.setIframeHeight(document.documentElement.scrollHeight, true);\n",
        "\n",
        "      // Wait for Capture to be clicked.\n",
        "      await new Promise((resolve) => capture.onclick = resolve);\n",
        "\n",
        "      const canvas = document.createElement('canvas');\n",
        "      canvas.width = video.videoWidth;\n",
        "      canvas.height = video.videoHeight;\n",
        "      canvas.getContext('2d').drawImage(video, 0, 0);\n",
        "      stream.getVideoTracks()[0].stop();\n",
        "      div.remove();\n",
        "      return canvas.toDataURL('image/jpeg', quality);\n",
        "    }\n",
        "    ''')\n",
        "  display(js)\n",
        "  data = eval_js('takePhoto({})'.format(quality))\n",
        "  binary = b64decode(data.split(',')[1])\n",
        "  with open(filename, 'wb') as f:\n",
        "    f.write(binary)\n",
        "  return filename"
      ]
    },
    {
      "cell_type": "markdown",
      "metadata": {
        "id": "KQWu3Q6ztazC"
      },
      "source": [
        "**Conexão com o Google Drive e webcam**\n",
        "\n",
        "Agora, Após acionar o play que segue abaixo, caso algum login não tenha sido realizado, o Google irá solicitar a realização de login por duas vezes, a câmera será ligada e a imagem vai aparecer na tela. Para capturar a imagem basta clicar no retângulo escrito captura para que a imagem seja salva e possa ser utilizada pelo aplicativo.\n",
        "\n",
        "\n",
        "Clique no indicador de play que se encontra dentro dos colchetes abaixo   [ \\ ]"
      ]
    },
    {
      "cell_type": "code",
      "execution_count": null,
      "metadata": {
        "id": "k6PwHalrtBKs"
      },
      "outputs": [],
      "source": [
        "# Montar o Google Drive\n",
        "drive.mount('/content/drive/')\n",
        "\n",
        "image_path = \"/content/drive/MyDrive/Colab Notebooks/\"\n",
        "filename=os.path.join(image_path,'photo1.jpg')\n",
        "quality=0.8\n",
        "\n",
        "try:\n",
        "  take_photo(filename, quality)\n",
        "\n",
        "  print('Imagem gravada em {}'.format(filename))\n",
        "\n",
        "  # Show the image which was just taken.\n",
        "  display(Image(filename))\n",
        "except Exception as err:\n",
        "  # Errors will be thrown if the user does not have a webcam or if they do not\n",
        "  # grant the page permission to access it.\n",
        "  print(str(err))\n",
        "\n",
        "original_img = cv2.imread(filename)\n",
        "\n",
        "if original_img is None:\n",
        "    raise ValueError(\"Imagem não encontrada. Verifique o caminho.\")\n",
        "\n",
        "# Converter BGR para RGB para exibição\n",
        "original_img_rgb = cv2.cvtColor(original_img, cv2.COLOR_BGR2RGB)\n",
        "\n",
        "plt.figure(figsize=(6,6))\n",
        "plt.imshow(original_img_rgb)\n",
        "plt.title(\"Imagem capturada\")\n",
        "plt.axis('off')\n",
        "plt.show()"
      ]
    },
    {
      "cell_type": "markdown",
      "metadata": {
        "id": "P3UzaDX8Jf36"
      },
      "source": [
        "**Filtros de Realce**\n",
        "\n",
        "\n",
        "O primeiro processamento que será realizado é o de realce.\n",
        "\n",
        "Clique no indicador de play que se encontra dentro dos colchetes abaixo   [ \\ ]"
      ]
    },
    {
      "cell_type": "code",
      "execution_count": null,
      "metadata": {
        "id": "Qz8dJjlPJf36"
      },
      "outputs": [],
      "source": [
        "def apply_enhancement(img):\n",
        "    # Realce utilizando CLAHE (Adaptive Histogram Equalization)\n",
        "    lab = cv2.cvtColor(img, cv2.COLOR_BGR2LAB)\n",
        "    l, a, b = cv2.split(lab)\n",
        "    clahe = cv2.createCLAHE(clipLimit=3.0, tileGridSize=(8,8))\n",
        "    l_clahe = clahe.apply(l)\n",
        "    lab_clahe = cv2.merge((l_clahe, a, b))\n",
        "    img_clahe = cv2.cvtColor(lab_clahe, cv2.COLOR_LAB2BGR)\n",
        "\n",
        "    # Filtro de nitidez (Unsharp Masking)\n",
        "    gaussian = cv2.GaussianBlur(img_clahe, (0,0), 2.0)\n",
        "    img_sharp = cv2.addWeighted(img_clahe, 1.5, gaussian, -0.5, 0)\n",
        "\n",
        "    # Filtro bilateral para reduzir ruído preservando bordas\n",
        "    img_bilateral = cv2.bilateralFilter(img_sharp, 9, 75, 75)\n",
        "    return img_bilateral\n",
        "\n",
        "enhanced_img = apply_enhancement(original_img)\n",
        "enhanced_img_rgb = cv2.cvtColor(enhanced_img, cv2.COLOR_BGR2RGB)\n"
      ]
    },
    {
      "cell_type": "markdown",
      "metadata": {
        "id": "ZQxAMOPzHqBo"
      },
      "source": [
        "#Imagem com Realce (Filtro de Nitidez e Bilateral)#\n",
        "\n",
        "Para ver a Imagem com o primeiro processamento:\n",
        "\n",
        "Clique no indicador de play que se encontra dentro dos colchetes abaixo [ \\ ]"
      ]
    },
    {
      "cell_type": "code",
      "execution_count": null,
      "metadata": {
        "id": "qbdyOVOnj_BM"
      },
      "outputs": [],
      "source": [
        "\n",
        "\n",
        "plt.figure(figsize=(6,6))\n",
        "plt.imshow(enhanced_img_rgb)\n",
        "plt.title(\"Imagem com Realce\")\n",
        "plt.axis('off')\n",
        "plt.show()"
      ]
    },
    {
      "cell_type": "markdown",
      "metadata": {
        "id": "WiCHK3dTt4M6"
      },
      "source": [
        "**Equalização de Histograma**\n",
        "\n",
        "O segundo processamento é o de Equalização de Histograma\n",
        "\n",
        "Clique no indicador de play que se encontra dentro dos colchetes abaixo   [ \\ ]"
      ]
    },
    {
      "cell_type": "code",
      "execution_count": null,
      "metadata": {
        "id": "dwkUkiFSt5Ei"
      },
      "outputs": [],
      "source": [
        "def apply_histogram_equalization(img):\n",
        "    # Converter para espaço YCrCb para equalizar apenas o canal Y (luminância)\n",
        "    img_ycrcb = cv2.cvtColor(img, cv2.COLOR_BGR2YCrCb)\n",
        "    y, cr, cb = cv2.split(img_ycrcb)\n",
        "    y_eq = cv2.equalizeHist(y)\n",
        "    img_ycrcb_eq = cv2.merge((y_eq, cr, cb))\n",
        "    img_eq = cv2.cvtColor(img_ycrcb_eq, cv2.COLOR_YCrCb2BGR)\n",
        "    return img_eq\n",
        "\n",
        "# Aplicar equalização\n",
        "equalized_img = apply_histogram_equalization(original_img)\n",
        "equalized_img_rgb = cv2.cvtColor(equalized_img, cv2.COLOR_BGR2RGB)"
      ]
    },
    {
      "cell_type": "markdown",
      "metadata": {
        "id": "BmJMNBONJlDM"
      },
      "source": [
        "#Imagem com Equalização de Histograma#\n",
        "Para ver a Imagem com o segundo processamento:\n",
        "\n",
        "Clique no indicador de play que se encontra dentro dos colchetes abaixo [ \\ ]"
      ]
    },
    {
      "cell_type": "code",
      "execution_count": null,
      "metadata": {
        "id": "v_UKznbOsQQV"
      },
      "outputs": [],
      "source": [
        "plt.figure(figsize=(6,6))\n",
        "plt.imshow(equalized_img_rgb)\n",
        "plt.title(\"Imagem com Equalização de Histograma\")\n",
        "plt.axis('off')\n",
        "plt.show()"
      ]
    },
    {
      "cell_type": "markdown",
      "metadata": {
        "id": "Sq0GVIxqt-Vb"
      },
      "source": [
        "**Segmentação com Watershed**\n",
        "\n",
        "O terceiro processamento é o de Segmentação que irá marcar um contorno na imagem, para realizar o processamento e apresentar a imagem resultante na tela:\n",
        "\n",
        "Clique no indicador de play que se encontra dentro dos colchetes abaixo   [ \\ ]"
      ]
    },
    {
      "cell_type": "code",
      "execution_count": null,
      "metadata": {
        "id": "Ys5ZIPo6t7A6"
      },
      "outputs": [],
      "source": [
        "def apply_watershed(img):\n",
        "    # Converter para escala de cinza e aplicar thresholding\n",
        "    gray = cv2.cvtColor(img, cv2.COLOR_BGR2GRAY)\n",
        "    ret, thresh = cv2.threshold(gray, 0, 255, cv2.THRESH_BINARY_INV + cv2.THRESH_OTSU)\n",
        "\n",
        "    # Operações morfológicas\n",
        "    kernel = np.ones((3,3), np.uint8)\n",
        "    opening = cv2.morphologyEx(thresh, cv2.MORPH_OPEN, kernel, iterations=2)\n",
        "    sure_bg = cv2.dilate(opening, kernel, iterations=3)\n",
        "\n",
        "    # Determinar foreground com transformação de distância\n",
        "    dist_transform = cv2.distanceTransform(opening, cv2.DIST_L2, 5)\n",
        "    ret, sure_fg = cv2.threshold(dist_transform, 0.7*dist_transform.max(), 255, 0)\n",
        "\n",
        "    sure_fg = np.uint8(sure_fg)\n",
        "    unknown = cv2.subtract(sure_bg, sure_fg)\n",
        "\n",
        "    # Marcação e aplicação do watershed\n",
        "    ret, markers = cv2.connectedComponents(sure_fg)\n",
        "    markers = markers + 1\n",
        "    markers[unknown == 255] = 0\n",
        "    markers = cv2.watershed(img, markers)\n",
        "    img[markers == -1] = [255, 0, 0]  # Bordas em vermelho\n",
        "    return img\n",
        "\n",
        "# Aplicar watershed na imagem equalizada\n",
        "processed_img = apply_watershed(equalized_img)\n",
        "processed_img_rgb = cv2.cvtColor(processed_img, cv2.COLOR_BGR2RGB)\n",
        "\n",
        "plt.figure(figsize=(6,6))\n",
        "plt.imshow(processed_img_rgb)\n",
        "plt.title(\"Imagem Segmentada\")\n",
        "plt.axis('off')\n",
        "plt.show()\n"
      ]
    },
    {
      "cell_type": "markdown",
      "metadata": {
        "id": "xrUebFpZuABS"
      },
      "source": [
        "**Pipeline de Pré-processamento**\n",
        "\n",
        "O último processamento é a junção de todos os processamentos, para executar este processamento e visualizar a imagem na tela:\n",
        "\n",
        "Clique no indicador de play que se encontra dentro dos colchetes abaixo   [ \\ ]"
      ]
    },
    {
      "cell_type": "code",
      "execution_count": null,
      "metadata": {
        "id": "MuS1UJ7YuCnq"
      },
      "outputs": [],
      "source": [
        "def full_preprocessing(img):\n",
        "    # Passo 1: Realce\n",
        "    img_enhanced = apply_enhancement(img)\n",
        "\n",
        "    # Passo 2: Equalização de Histograma (canal Y do espaço YCrCb)\n",
        "    ycrcb = cv2.cvtColor(img_enhanced, cv2.COLOR_BGR2YCrCb)\n",
        "    y, cr, cb = cv2.split(ycrcb)\n",
        "    y_eq = cv2.equalizeHist(y)\n",
        "    img_eq = cv2.merge((y_eq, cr, cb))\n",
        "    img_eq = cv2.cvtColor(img_eq, cv2.COLOR_YCrCb2BGR)\n",
        "\n",
        "    # Passo 3: Watershed\n",
        "    gray = cv2.cvtColor(img_eq, cv2.COLOR_BGR2GRAY)\n",
        "    ret, thresh = cv2.threshold(gray, 0, 255, cv2.THRESH_BINARY_INV+cv2.THRESH_OTSU)\n",
        "    kernel = np.ones((3,3), np.uint8)\n",
        "    opening = cv2.morphologyEx(thresh, cv2.MORPH_OPEN, kernel, iterations=2)\n",
        "    sure_bg = cv2.dilate(opening, kernel, iterations=3)\n",
        "    dist_transform = cv2.distanceTransform(opening, cv2.DIST_L2, 5)\n",
        "    ret, sure_fg = cv2.threshold(dist_transform, 0.7*dist_transform.max(), 255, 0)\n",
        "    sure_fg = np.uint8(sure_fg)\n",
        "    unknown = cv2.subtract(sure_bg, sure_fg)\n",
        "    ret, markers = cv2.connectedComponents(sure_fg)\n",
        "    markers = markers + 1\n",
        "    markers[unknown==255] = 0\n",
        "    markers = cv2.watershed(img_eq, markers)\n",
        "    img_eq[markers==-1] = [255, 0, 0]\n",
        "    return img_eq\n",
        "\n",
        "final_img = full_preprocessing(original_img)\n",
        "final_img_rgb = cv2.cvtColor(final_img, cv2.COLOR_BGR2RGB)\n",
        "\n",
        "plt.figure(figsize=(6,6))\n",
        "plt.imshow(final_img_rgb)\n",
        "plt.title(\"Imagem Processada Completa\")\n",
        "plt.axis('off')\n",
        "plt.show()\n"
      ]
    },
    {
      "cell_type": "markdown",
      "metadata": {
        "id": "9lgBRRC0uTAi"
      },
      "source": [
        "**Visualização Comparativa dos Histogramas**\n",
        "\n",
        "Agora vamos exibir o histograma da imagem original e da imagem Equalizada.  \n",
        "Clique no indicador de play que se encontra dentro dos colchetes abaixo   [ \\ ]"
      ]
    },
    {
      "cell_type": "code",
      "execution_count": null,
      "metadata": {
        "id": "pCfE0hp7uZfy"
      },
      "outputs": [],
      "source": [
        "# %% Visualização dos Resultados Processados\n",
        "plt.figure(figsize=(15, 4))\n",
        "# Para equalização, processamos a imagem no espaço YCrCb\n",
        "ycbcr = cv2.cvtColor(original_img, cv2.COLOR_BGR2YCrCb)\n",
        "y, cr, cb = cv2.split(ycbcr)\n",
        "y_eq = cv2.equalizeHist(y)\n",
        "img_eq_temp = cv2.merge((y_eq, cr, cb))\n",
        "img_eq_rgb = cv2.cvtColor(img_eq_temp, cv2.COLOR_YCrCb2RGB)\n",
        "\n",
        "titles = ['1 - Original', '2 - Equalização de Histograma', '3 - Realce (CLAHE + Unsharp)', '4 - Pré-processamento Completo']\n",
        "images = [original_img_rgb, img_eq_rgb, enhanced_img_rgb, final_img_rgb]\n",
        "\n",
        "# %% Comparação dos Histogramas\n",
        "plt.figure(figsize=(15, 6))\n",
        "colors = ('r', 'g', 'b')\n",
        "\n",
        "# Histograma da imagem original\n",
        "plt.subplot(1, 2, 1)\n",
        "for i, color in enumerate(colors):\n",
        "    hist = cv2.calcHist([original_img], [i], None, [256], [0, 256])\n",
        "    plt.plot(hist, color=color)\n",
        "plt.title('Histograma - Original')\n",
        "plt.xlim([0, 256])\n",
        "plt.grid(True)\n",
        "\n",
        "# Histograma após equalização\n",
        "plt.subplot(1, 2, 2)\n",
        "img_eq_bgr = cv2.cvtColor(img_eq_temp, cv2.COLOR_YCrCb2BGR)\n",
        "for i, color in enumerate(colors):\n",
        "    hist = cv2.calcHist([img_eq_bgr], [i], None, [256], [0, 256])\n",
        "    plt.plot(hist, color=color)\n",
        "plt.title('Histograma - Após Equalização')\n",
        "plt.xlim([0, 256])\n",
        "plt.grid(True)\n",
        "plt.tight_layout()\n",
        "plt.show()"
      ]
    },
    {
      "cell_type": "markdown",
      "metadata": {
        "id": "szV-IeosskFg"
      },
      "source": [
        "#Visualização Comparativa das Imagens#\n",
        "\n",
        "Agora vamos exibir as 4 imagens para que possa ser escolhida a que melhor representa o objeto a ter a côr identificada.\n",
        "Clique no indicador de play que se encontra dentro dos colchetes abaixo [ \\ ]\n",
        "\n"
      ]
    },
    {
      "cell_type": "code",
      "execution_count": null,
      "metadata": {
        "id": "Oq4nm1Mhxwrn"
      },
      "outputs": [],
      "source": [
        "plt.figure(figsize=(15, 4))\n",
        "for i in range(4):\n",
        "    plt.subplot(1, 4, i+1)\n",
        "    plt.imshow(images[i])\n",
        "    plt.title(titles[i], fontsize=12)\n",
        "    plt.axis('off')\n",
        "    if i > 0:  # Adiciona um histograma nas imagens processadas\n",
        "        plt.colorbar(orientation='horizontal', fraction=0.05, pad=0.05)\n",
        "plt.tight_layout()\n",
        "plt.show()"
      ]
    },
    {
      "cell_type": "markdown",
      "metadata": {
        "id": "TkXi51TvuwGI"
      },
      "source": [
        "**Escolha e Apresentação da Imagem**\n",
        "\n",
        " Diante das 4 imagens apresentadas, escolha através do preenchimento do número 1-2-3 ou 4 em um campo retangular, a que melhor representa o objeto:\n",
        "\n",
        "1.   Imagem Original\n",
        "2.   Imagem Equalizada pelo Histograma\n",
        "\n",
        "3.   Imagem com Realce\n",
        "\n",
        "4.   Imagem Pré-processada Completa\n",
        "\n",
        "Primeiro\n",
        "\n",
        "Clique no indicador de play que se encontra dentro dos colchetes abaixo   [ \\ ]\n",
        "\n",
        "Depois\n",
        "\n",
        "Preencha o retângulo com o número escolhido"
      ]
    },
    {
      "cell_type": "code",
      "execution_count": null,
      "metadata": {
        "id": "gp-iFUU3WnQj"
      },
      "outputs": [],
      "source": [
        "userInput = int(input(\"Escolha o número da imagem. 1 - Original. 2 - Equalização de Histograma. 3 - Realce (CLAHE + Unsharp). 4 - Pré-processamento Completo \"))\n",
        "if userInput == 1:\n",
        "  imageEscolhida = original_img_rgb\n",
        "elif userInput == 2:\n",
        "  imageEscolhida = equalized_img_rgb\n",
        "elif userInput == 3:\n",
        "  imageEscolhida = enhanced_img_rgb\n",
        "else:\n",
        "  imageEscolhida = final_img_rgb\n",
        "\n",
        "imageEscolhida"
      ]
    },
    {
      "cell_type": "markdown",
      "metadata": {
        "id": "-NKgdvjp5J34"
      },
      "source": [
        "##Identificação de Cores##\n",
        "\n",
        "Agora será exibida a imagem sobre a qual iremos identificar a côr, após o processamento será exibida uma parte da imagem, a descrição da côr com seus códigos de RGB e a côr complementar, sendo que se desejar verificar outras regióes é só clicar novamente que as descrições serão apresentadas.\n",
        "\n",
        "Primeiro para aparecer a Imagem\n",
        "\n",
        "Clique no indicador de play que se encontra dentro dos colchetes abaixo   [ \\ ]\n",
        "\n",
        "Em seguida para escolher a região\n",
        "\n",
        "Clique com o mouse sobre a região a ter a côr identificada."
      ]
    },
    {
      "cell_type": "code",
      "execution_count": null,
      "metadata": {
        "id": "7gxt_2Dmvhm5"
      },
      "outputs": [],
      "source": [
        "def get_color_name(rgb):\n",
        "    try:\n",
        "        return webcolors.rgb_to_name(rgb)\n",
        "    except ValueError:\n",
        "        pass\n",
        "    r, g, b = rgb[0]/255, rgb[1]/255, rgb[2]/255\n",
        "    h, s, v = colorsys.rgb_to_hsv(r, g, b)\n",
        "    h *= 360\n",
        "    s *= 100\n",
        "    v *= 100\n",
        "    if v < 15:\n",
        "        return \"Preto\"\n",
        "    if s < 10 and v > 90:\n",
        "        return \"Branco\"\n",
        "    if s < 20 and 20 < v < 90:\n",
        "        return f\"Cinza{' claro' if v > 60 else ' escuro'}\" if s > 5 else \"Cinza\"\n",
        "    color_ranges = [\n",
        "        (0, 15, \"Vermelho\"), (15, 35, \"Laranja\"), (35, 65, \"Amarelo\"),\n",
        "        (65, 165, \"Verde\"), (165, 200, \"Azul-ciano\"), (200, 250, \"Azul\"),\n",
        "        (250, 290, \"Roxo\"), (290, 330, \"Magenta\"), (330, 360, \"Rosa\")\n",
        "    ]\n",
        "    color = next((name for (start, end, name) in color_ranges if start <= h < end), \"Vermelho\")\n",
        "    modifiers = []\n",
        "    if s < 40:\n",
        "        modifiers.append(\"Pálido\" if v > 50 else \"Opaco\")\n",
        "    elif s > 80:\n",
        "        modifiers.append(\"Vívido\")\n",
        "    if v < 40:\n",
        "        modifiers.append(\"Escuro\")\n",
        "    elif v > 85:\n",
        "        modifiers.append(\"Claro\")\n",
        "    if modifiers:\n",
        "        return \" \".join(modifiers + [color.lower()])\n",
        "    return color\n",
        "\n",
        "def get_complementary_color(rgb):\n",
        "    r, g, b = rgb\n",
        "    return (255 - r, 255 - g, 255 - b)\n",
        "\n",
        "def get_analogous_colors(rgb):\n",
        "    r, g, b = rgb\n",
        "    return [\n",
        "        (min(255, int(r*1.3)), min(255, int(g*1.3)), min(255, int(b*1.3))),\n",
        "        (max(0, int(r*0.7)), max(0, int(g*0.7)), max(0, int(b*0.7)))\n",
        "    ]\n",
        "\n",
        "def create_color_table(colors, names):\n",
        "    fig, ax = plt.subplots(figsize=(15, 2))\n",
        "    ax.axis('off')\n",
        "    table_data = []\n",
        "    for color, name in zip(colors, names):\n",
        "        rgb_str = f\"RGB: {color[0]}, {color[1]}, {color[2]}\"\n",
        "        table_data.append([name, rgb_str, \"\"])  # Add an empty column for color\n",
        "    table = ax.table(\n",
        "        cellText=table_data,\n",
        "        colLabels=[\"Nome da Cor\", \"Valores RGB\", \"Cor\"],\n",
        "        cellLoc='center',\n",
        "        loc='center',\n",
        "        colColours=['#f0f0f0', '#f0f0f0', '#f0f0f0']\n",
        "    )\n",
        "    table.auto_set_font_size(False)\n",
        "    table.set_fontsize(12)\n",
        "    table.scale(1, 2)\n",
        "    for i, color in enumerate(colors):\n",
        "        table[(i+1, 2)].set_facecolor(np.array(color)/255)\n",
        "    return fig\n",
        "\n",
        "try:\n",
        "  image = imageEscolhida\n",
        "except NameError:\n",
        "    try:\n",
        "        image = original_img_rgb\n",
        "    except NameError:\n",
        "        image = (np.random.rand(200, 300, 3) * 255).astype(np.uint8)\n",
        "\n",
        "if image.dtype in [np.float32, np.float64]:\n",
        "    image = (image * 255).astype(np.uint8)\n",
        "\n",
        "fig, ax = plt.subplots(figsize=(10, 10))\n",
        "ax.imshow(image)\n",
        "ax.set_title(\"Clique na imagem para análise de cor\")\n",
        "ax.axis('off')\n",
        "\n",
        "def on_click(event):\n",
        "    if event.xdata is None or event.ydata is None:\n",
        "        return\n",
        "    x = int(event.xdata)\n",
        "    y = int(event.ydata)\n",
        "    height, width = image.shape[:2]\n",
        "    if x < 0 or x >= width or y < 0 or y >= height:\n",
        "        print(\"Clique fora da área da imagem!\")\n",
        "        return\n",
        "    print(f\"Coordenadas clicadas: x={x}, y={y}\")\n",
        "    pixel = image[y, x]\n",
        "    print(f\"Valor RGB: {pixel}\")\n",
        "    main_color = tuple(pixel.tolist())\n",
        "    main_name = get_color_name(main_color)\n",
        "    comp_color = get_complementary_color(main_color)\n",
        "    comp_name = get_color_name(comp_color)\n",
        "    analogous_light, analogous_dark = get_analogous_colors(main_color)\n",
        "    light_name = get_color_name(analogous_light)\n",
        "    dark_name = get_color_name(analogous_dark)\n",
        "    plt.figure(figsize=(8, 4))\n",
        "    plt.subplot(1, 2, 1)\n",
        "    margin = 60\n",
        "    x0 = max(0, x - margin)\n",
        "    x1 = min(width, x + margin)\n",
        "    y0 = max(0, y - margin)\n",
        "    y1 = min(height, y + margin)\n",
        "    zoom = image[y0:y1, x0:x1]\n",
        "    plt.imshow(zoom)\n",
        "    offset_x = x - x0\n",
        "    offset_y = y - y0\n",
        "    plt.scatter([offset_x], [offset_y], c='red', marker='x')\n",
        "    plt.title(f'Zoom na posição ({x}, {y})')\n",
        "    plt.axis('off')\n",
        "    plt.subplot(1, 2, 2)\n",
        "    color_patch = np.full((200, 200, 3), main_color, dtype=np.uint8)\n",
        "    plt.imshow(color_patch)\n",
        "    plt.title(f'RGB: {main_color}\\n{main_name}')\n",
        "    plt.axis('off')\n",
        "    plt.tight_layout()\n",
        "    plt.show()\n",
        "    combined_colors = [main_color, comp_color, analogous_light, analogous_dark]\n",
        "    color_names = [f\"Cor Original: {main_name}\", f\"Complementar: {comp_name}\",\n",
        "                   f\"Análoga Clara: {light_name}\", f\"Análoga Escura: {dark_name}\"]\n",
        "    table_fig = create_color_table(combined_colors, color_names)\n",
        "    plt.show()\n",
        "\n",
        "cid = fig.canvas.mpl_connect('button_press_event', on_click)\n",
        "plt.show()\n"
      ]
    }
  ],
  "metadata": {
    "colab": {
      "provenance": []
    },
    "kernelspec": {
      "display_name": "Python 3",
      "name": "python3"
    },
    "language_info": {
      "name": "python"
    }
  },
  "nbformat": 4,
  "nbformat_minor": 0
}